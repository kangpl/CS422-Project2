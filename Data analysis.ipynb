{
 "cells": [
  {
   "cell_type": "code",
   "execution_count": 1,
   "metadata": {},
   "outputs": [],
   "source": [
    "import pandas as pd"
   ]
  },
  {
   "cell_type": "code",
   "execution_count": 2,
   "metadata": {},
   "outputs": [],
   "source": [
    "# l_orderkey, l_partkey, l_suppkey, l_linenumber, l_quantity: decimal(12,2) (nullable = true)\n",
    "#     // |-- l_extendedprice: decimal(12,2) (nullable = true)\n",
    "#     // |-- l_discount: decimal(12,2) (nullable = true)\n",
    "#     // |-- l_tax: decimal(12,2) (nullable = true)\n",
    "#     // |-- l_returnflag: string (nullable = true)\n",
    "#     // |-- l_linestatus: string (nullable = true)\n",
    "#     // |-- l_shipdate: date (nullable = true)\n",
    "#     // |-- l_commitdate: date (nullable = true)\n",
    "#     // |-- l_receiptdate: date (nullable = true)\n",
    "#     // |-- l_shipinstruct: string (nullable = true)\n",
    "#     // |-- l_shipmode: string (nullable = true)\n",
    "#     // |-- l_comment:"
   ]
  },
  {
   "cell_type": "code",
   "execution_count": 3,
   "metadata": {},
   "outputs": [],
   "source": [
    "lineitem = pd.read_csv(\"lineitem.tbl\", sep='|', index_col=False, \n",
    "            names=['l_orderkey', 'l_partkey', 'l_suppkey', 'l_linenumber', 'l_quantity', \n",
    "                 'l_extendedprice', 'l_discount', 'l_tax', 'l_returnflag', 'l_linestatus',\n",
    "                'l_shipdate', 'l_commitdate', 'l_receiptdate', 'l_shipinstruct', 'l_shipmode',\n",
    "                'l_comment'])"
   ]
  },
  {
   "cell_type": "code",
   "execution_count": 4,
   "metadata": {},
   "outputs": [
    {
     "data": {
      "text/html": [
       "<div>\n",
       "<style scoped>\n",
       "    .dataframe tbody tr th:only-of-type {\n",
       "        vertical-align: middle;\n",
       "    }\n",
       "\n",
       "    .dataframe tbody tr th {\n",
       "        vertical-align: top;\n",
       "    }\n",
       "\n",
       "    .dataframe thead th {\n",
       "        text-align: right;\n",
       "    }\n",
       "</style>\n",
       "<table border=\"1\" class=\"dataframe\">\n",
       "  <thead>\n",
       "    <tr style=\"text-align: right;\">\n",
       "      <th></th>\n",
       "      <th>l_orderkey</th>\n",
       "      <th>l_partkey</th>\n",
       "      <th>l_suppkey</th>\n",
       "      <th>l_linenumber</th>\n",
       "      <th>l_quantity</th>\n",
       "      <th>l_extendedprice</th>\n",
       "      <th>l_discount</th>\n",
       "      <th>l_tax</th>\n",
       "      <th>l_returnflag</th>\n",
       "      <th>l_linestatus</th>\n",
       "      <th>l_shipdate</th>\n",
       "      <th>l_commitdate</th>\n",
       "      <th>l_receiptdate</th>\n",
       "      <th>l_shipinstruct</th>\n",
       "      <th>l_shipmode</th>\n",
       "      <th>l_comment</th>\n",
       "    </tr>\n",
       "  </thead>\n",
       "  <tbody>\n",
       "    <tr>\n",
       "      <th>0</th>\n",
       "      <td>1</td>\n",
       "      <td>15519</td>\n",
       "      <td>785</td>\n",
       "      <td>1</td>\n",
       "      <td>17</td>\n",
       "      <td>24386.67</td>\n",
       "      <td>0.04</td>\n",
       "      <td>0.02</td>\n",
       "      <td>N</td>\n",
       "      <td>O</td>\n",
       "      <td>1996-03-13</td>\n",
       "      <td>1996-02-12</td>\n",
       "      <td>1996-03-22</td>\n",
       "      <td>DELIVER IN PERSON</td>\n",
       "      <td>TRUCK</td>\n",
       "      <td>egular courts above the</td>\n",
       "    </tr>\n",
       "    <tr>\n",
       "      <th>1</th>\n",
       "      <td>1</td>\n",
       "      <td>6731</td>\n",
       "      <td>732</td>\n",
       "      <td>2</td>\n",
       "      <td>36</td>\n",
       "      <td>58958.28</td>\n",
       "      <td>0.09</td>\n",
       "      <td>0.06</td>\n",
       "      <td>N</td>\n",
       "      <td>O</td>\n",
       "      <td>1996-04-12</td>\n",
       "      <td>1996-02-28</td>\n",
       "      <td>1996-04-20</td>\n",
       "      <td>TAKE BACK RETURN</td>\n",
       "      <td>MAIL</td>\n",
       "      <td>ly final dependencies: slyly bold</td>\n",
       "    </tr>\n",
       "    <tr>\n",
       "      <th>2</th>\n",
       "      <td>1</td>\n",
       "      <td>6370</td>\n",
       "      <td>371</td>\n",
       "      <td>3</td>\n",
       "      <td>8</td>\n",
       "      <td>10210.96</td>\n",
       "      <td>0.10</td>\n",
       "      <td>0.02</td>\n",
       "      <td>N</td>\n",
       "      <td>O</td>\n",
       "      <td>1996-01-29</td>\n",
       "      <td>1996-03-05</td>\n",
       "      <td>1996-01-31</td>\n",
       "      <td>TAKE BACK RETURN</td>\n",
       "      <td>REG AIR</td>\n",
       "      <td>riously. regular, express dep</td>\n",
       "    </tr>\n",
       "    <tr>\n",
       "      <th>3</th>\n",
       "      <td>1</td>\n",
       "      <td>214</td>\n",
       "      <td>465</td>\n",
       "      <td>4</td>\n",
       "      <td>28</td>\n",
       "      <td>31197.88</td>\n",
       "      <td>0.09</td>\n",
       "      <td>0.06</td>\n",
       "      <td>N</td>\n",
       "      <td>O</td>\n",
       "      <td>1996-04-21</td>\n",
       "      <td>1996-03-30</td>\n",
       "      <td>1996-05-16</td>\n",
       "      <td>NONE</td>\n",
       "      <td>AIR</td>\n",
       "      <td>lites. fluffily even de</td>\n",
       "    </tr>\n",
       "    <tr>\n",
       "      <th>4</th>\n",
       "      <td>1</td>\n",
       "      <td>2403</td>\n",
       "      <td>160</td>\n",
       "      <td>5</td>\n",
       "      <td>24</td>\n",
       "      <td>31329.60</td>\n",
       "      <td>0.10</td>\n",
       "      <td>0.04</td>\n",
       "      <td>N</td>\n",
       "      <td>O</td>\n",
       "      <td>1996-03-30</td>\n",
       "      <td>1996-03-14</td>\n",
       "      <td>1996-04-01</td>\n",
       "      <td>NONE</td>\n",
       "      <td>FOB</td>\n",
       "      <td>pending foxes. slyly re</td>\n",
       "    </tr>\n",
       "  </tbody>\n",
       "</table>\n",
       "</div>"
      ],
      "text/plain": [
       "   l_orderkey  l_partkey  l_suppkey  l_linenumber  l_quantity  \\\n",
       "0           1      15519        785             1          17   \n",
       "1           1       6731        732             2          36   \n",
       "2           1       6370        371             3           8   \n",
       "3           1        214        465             4          28   \n",
       "4           1       2403        160             5          24   \n",
       "\n",
       "   l_extendedprice  l_discount  l_tax l_returnflag l_linestatus  l_shipdate  \\\n",
       "0         24386.67        0.04   0.02            N            O  1996-03-13   \n",
       "1         58958.28        0.09   0.06            N            O  1996-04-12   \n",
       "2         10210.96        0.10   0.02            N            O  1996-01-29   \n",
       "3         31197.88        0.09   0.06            N            O  1996-04-21   \n",
       "4         31329.60        0.10   0.04            N            O  1996-03-30   \n",
       "\n",
       "  l_commitdate l_receiptdate     l_shipinstruct l_shipmode  \\\n",
       "0   1996-02-12    1996-03-22  DELIVER IN PERSON      TRUCK   \n",
       "1   1996-02-28    1996-04-20   TAKE BACK RETURN       MAIL   \n",
       "2   1996-03-05    1996-01-31   TAKE BACK RETURN    REG AIR   \n",
       "3   1996-03-30    1996-05-16               NONE        AIR   \n",
       "4   1996-03-14    1996-04-01               NONE        FOB   \n",
       "\n",
       "                            l_comment  \n",
       "0             egular courts above the  \n",
       "1  ly final dependencies: slyly bold   \n",
       "2       riously. regular, express dep  \n",
       "3             lites. fluffily even de  \n",
       "4             pending foxes. slyly re  "
      ]
     },
     "execution_count": 4,
     "metadata": {},
     "output_type": "execute_result"
    }
   ],
   "source": [
    "lineitem.head()"
   ]
  },
  {
   "cell_type": "code",
   "execution_count": 5,
   "metadata": {},
   "outputs": [
    {
     "data": {
      "text/plain": [
       "l_orderkey           int64\n",
       "l_partkey            int64\n",
       "l_suppkey            int64\n",
       "l_linenumber         int64\n",
       "l_quantity           int64\n",
       "l_extendedprice    float64\n",
       "l_discount         float64\n",
       "l_tax              float64\n",
       "l_returnflag        object\n",
       "l_linestatus        object\n",
       "l_shipdate          object\n",
       "l_commitdate        object\n",
       "l_receiptdate       object\n",
       "l_shipinstruct      object\n",
       "l_shipmode          object\n",
       "l_comment           object\n",
       "dtype: object"
      ]
     },
     "execution_count": 5,
     "metadata": {},
     "output_type": "execute_result"
    }
   ],
   "source": [
    "lineitem.dtypes"
   ]
  },
  {
   "cell_type": "code",
   "execution_count": 36,
   "metadata": {},
   "outputs": [
    {
     "data": {
      "text/plain": [
       "(600572, 16)"
      ]
     },
     "execution_count": 36,
     "metadata": {},
     "output_type": "execute_result"
    }
   ],
   "source": [
    "lineitem.shape"
   ]
  },
  {
   "cell_type": "code",
   "execution_count": 42,
   "metadata": {},
   "outputs": [
    {
     "name": "stdout",
     "output_type": "stream",
     "text": [
      "l_comment 538684\n",
      "l_commitdate 2466\n",
      "l_discount 11\n",
      "l_extendedprice 130792\n",
      "l_linenumber 7\n",
      "l_linestatus 2\n",
      "l_orderkey 150000\n",
      "l_partkey 20000\n",
      "l_quantity 50\n",
      "l_receiptdate 2547\n",
      "l_returnflag 3\n",
      "l_shipdate 2525\n",
      "l_shipinstruct 4\n",
      "l_shipmode 7\n",
      "l_suppkey 1000\n",
      "l_tax 9\n"
     ]
    }
   ],
   "source": [
    "for col in sorted(lineitem.columns): # quantity, discount, shipmode\n",
    "    print(col, lineitem[col].nunique())"
   ]
  },
  {
   "cell_type": "code",
   "execution_count": 40,
   "metadata": {},
   "outputs": [
    {
     "data": {
      "text/plain": [
       "301692"
      ]
     },
     "execution_count": 40,
     "metadata": {},
     "output_type": "execute_result"
    }
   ],
   "source": [
    "lineitem.groupby(['l_commitdate', 'l_receiptdate']).ngroups"
   ]
  },
  {
   "cell_type": "code",
   "execution_count": 45,
   "metadata": {},
   "outputs": [
    {
     "data": {
      "text/plain": [
       "599389"
      ]
     },
     "execution_count": 45,
     "metadata": {},
     "output_type": "execute_result"
    }
   ],
   "source": [
    "lineitem.groupby(['l_orderkey', 'l_suppkey']).ngroups"
   ]
  },
  {
   "cell_type": "code",
   "execution_count": 47,
   "metadata": {},
   "outputs": [
    {
     "data": {
      "text/plain": [
       "600555"
      ]
     },
     "execution_count": 47,
     "metadata": {},
     "output_type": "execute_result"
    }
   ],
   "source": [
    "lineitem.groupby(['l_orderkey', 'l_partkey', 'l_suppkey']).ngroups"
   ]
  },
  {
   "cell_type": "code",
   "execution_count": 49,
   "metadata": {},
   "outputs": [
    {
     "data": {
      "text/plain": [
       "3815"
      ]
     },
     "execution_count": 49,
     "metadata": {},
     "output_type": "execute_result"
    }
   ],
   "source": [
    "lineitem.groupby([\"l_shipdate\", \"l_returnflag\", \"l_linestatus\"]).ngroups"
   ]
  },
  {
   "cell_type": "code",
   "execution_count": 101,
   "metadata": {},
   "outputs": [],
   "source": [
    "lines = [\n",
    "'l_shipdate l_returnflag l_linestatus',\n",
    "'l_orderkey l_shipdate',\n",
    "'l_orderkey l_suppkey',\n",
    "'l_shipdate l_discount l_quantity',\n",
    "'l_orderkey l_suppkey l_shipdate',\n",
    "'l_orderkey l_suppkey l_partkey',\n",
    "'l_orderkey l_returnflag',\n",
    "'l_orderkey l_shipmode l_commitdate',\n",
    "'l_receiptdate l_shipdate',\n",
    "'l_partkey l_quantity',\n",
    "'l_orderkey l_quantity',\n",
    "'l_partkey l_quantity l_shipmode l_shipinstruct',\n",
    "'l_partkey l_suppkey l_shipdate']"
   ]
  },
  {
   "cell_type": "code",
   "execution_count": null,
   "metadata": {},
   "outputs": [],
   "source": [
    "lines2 = [\n",
    "'l_shipdate l_returnflag',\n",
    "'l_orderkey l_shipdate',\n",
    "'l_orderkey l_suppkey',\n",
    "'l_shipdate l_discount l_quantity',\n",
    "'l_orderkey l_suppkey l_shipdate',\n",
    "'l_orderkey l_suppkey l_partkey',\n",
    "'l_orderkey l_returnflag',\n",
    "'l_orderkey l_shipmode l_commitdate',\n",
    "'l_receiptdate l_shipdate',\n",
    "'l_partkey l_quantity',\n",
    "'l_orderkey l_quantity',\n",
    "'l_partkey l_quantity l_shipmode l_shipinstruct',\n",
    "'l_partkey l_suppkey l_shipdate']"
   ]
  },
  {
   "cell_type": "code",
   "execution_count": 52,
   "metadata": {},
   "outputs": [
    {
     "name": "stdout",
     "output_type": "stream",
     "text": [
      "l_shipdate l_returnflag l_linestatus 3815 0.6352277495454334\n",
      "l_orderkey l_shipdate 590847 98.38071038942874\n",
      "l_orderkey l_suppkey 599389 99.80302111986573\n",
      "l_shipdate l_discount l_quantity 484297 80.63929054301566\n",
      "l_orderkey l_suppkey l_shipdate 600564 99.99866793656714\n",
      "l_orderkey l_suppkey l_partkey 600555 99.99716936520517\n",
      "l_orderkey l_returnflag 207165 34.49461513357266\n",
      "l_orderkey l_shipmode l_commitdate 597830 99.543435258387\n",
      "l_receiptdate l_shipdate 74920 12.474774048740201\n",
      "l_partkey l_quantity 451511 75.1801615792944\n",
      "l_orderkey l_quantity 576993 96.07390953957228\n",
      "l_partkey l_quantity l_shipmode l_shipinstruct 594076 98.91836449251713\n",
      "l_partkey l_suppkey l_shipdate 599651 99.8466461972919\n"
     ]
    }
   ],
   "source": [
    "for line in lines:\n",
    "    l = line.split()\n",
    "    ngroup = lineitem.groupby(l).ngroups\n",
    "    print(line, ngroup, ngroup/lineitem.shape[0] * 100) "
   ]
  },
  {
   "cell_type": "code",
   "execution_count": 38,
   "metadata": {
    "scrolled": true
   },
   "outputs": [
    {
     "name": "stdout",
     "output_type": "stream",
     "text": [
      "l_orderkey 501411    7\n",
      "350401    7\n",
      "352325    7\n",
      "191970    7\n",
      "41831     7\n",
      "413856    7\n",
      "485511    7\n",
      "284770    7\n",
      "481409    7\n",
      "33635     7\n",
      "35682     7\n",
      "581284    7\n",
      "20576     7\n",
      "107335    7\n",
      "392960    7\n",
      "86080     7\n",
      "109382    7\n",
      "384772    7\n",
      "113476    7\n",
      "147490    7\n",
      "153633    7\n",
      "151584    7\n",
      "223239    7\n",
      "348352    7\n",
      "346176    7\n",
      "219137    7\n",
      "555365    7\n",
      "85697     7\n",
      "344770    7\n",
      "521537    7\n",
      "         ..\n",
      "200387    1\n",
      "326914    1\n",
      "75398     1\n",
      "73345     1\n",
      "465569    1\n",
      "200551    1\n",
      "206085    1\n",
      "256992    1\n",
      "2210      1\n",
      "73863     1\n",
      "67714     1\n",
      "209444    1\n",
      "69761     1\n",
      "205350    1\n",
      "207399    1\n",
      "27429     1\n",
      "401511    1\n",
      "201987    1\n",
      "2627      1\n",
      "197889    1\n",
      "407652    1\n",
      "19233     1\n",
      "125856    1\n",
      "469062    1\n",
      "208739    1\n",
      "78436     1\n",
      "460866    1\n",
      "202596    1\n",
      "537703    1\n",
      "551392    1\n",
      "Name: l_orderkey, Length: 150000, dtype: int64\n",
      "l_partkey 10620    56\n",
      "6140     54\n",
      "8051     52\n",
      "15584    52\n",
      "10597    51\n",
      "2292     51\n",
      "10715    51\n",
      "3225     50\n",
      "17670    50\n",
      "14422    50\n",
      "19444    50\n",
      "9357     49\n",
      "15215    49\n",
      "16348    49\n",
      "2537     49\n",
      "8554     49\n",
      "11356    49\n",
      "9195     49\n",
      "3341     49\n",
      "15717    49\n",
      "8196     49\n",
      "3149     48\n",
      "5087     48\n",
      "13245    48\n",
      "18473    48\n",
      "16275    48\n",
      "3820     48\n",
      "6848     48\n",
      "11698    48\n",
      "7245     48\n",
      "         ..\n",
      "16432    15\n",
      "12663    15\n",
      "8152     15\n",
      "18452    15\n",
      "18427    15\n",
      "8612     14\n",
      "18166    14\n",
      "334      14\n",
      "2667     14\n",
      "13336    14\n",
      "19254    14\n",
      "15121    14\n",
      "18530    14\n",
      "7442     14\n",
      "16899    14\n",
      "3050     14\n",
      "8676     14\n",
      "7551     14\n",
      "19390    14\n",
      "3281     13\n",
      "17623    13\n",
      "9322     13\n",
      "10303    13\n",
      "19502    13\n",
      "19030    13\n",
      "11940    13\n",
      "3739     12\n",
      "19827    12\n",
      "16664    12\n",
      "6634     11\n",
      "Name: l_partkey, Length: 20000, dtype: int64\n",
      "l_suppkey 74     702\n",
      "347    677\n",
      "755    675\n",
      "756    670\n",
      "451    667\n",
      "725    665\n",
      "474    665\n",
      "102    663\n",
      "108    663\n",
      "736    663\n",
      "509    660\n",
      "514    659\n",
      "518    658\n",
      "609    657\n",
      "764    656\n",
      "164    655\n",
      "412    655\n",
      "787    655\n",
      "944    655\n",
      "376    653\n",
      "574    653\n",
      "230    653\n",
      "716    652\n",
      "353    651\n",
      "709    651\n",
      "777    651\n",
      "140    650\n",
      "796    650\n",
      "964    649\n",
      "532    648\n",
      "      ... \n",
      "811    553\n",
      "448    553\n",
      "399    552\n",
      "699    552\n",
      "861    551\n",
      "762    551\n",
      "769    550\n",
      "252    550\n",
      "858    549\n",
      "434    549\n",
      "198    548\n",
      "257    548\n",
      "607    548\n",
      "868    547\n",
      "995    547\n",
      "34     546\n",
      "763    546\n",
      "109    546\n",
      "70     545\n",
      "120    545\n",
      "748    544\n",
      "673    543\n",
      "782    540\n",
      "256    540\n",
      "600    537\n",
      "555    536\n",
      "189    533\n",
      "686    532\n",
      "214    530\n",
      "556    525\n",
      "Name: l_suppkey, Length: 1000, dtype: int64\n",
      "l_linenumber 1    150000\n",
      "2    128621\n",
      "3    107264\n",
      "4     85846\n",
      "5     64471\n",
      "6     42917\n",
      "7     21453\n",
      "Name: l_linenumber, dtype: int64\n",
      "l_quantity 42    12311\n",
      "36    12303\n",
      "24    12200\n",
      "47    12195\n",
      "25    12162\n",
      "23    12149\n",
      "28    12141\n",
      "9     12128\n",
      "41    12119\n",
      "16    12118\n",
      "26    12115\n",
      "35    12102\n",
      "32    12099\n",
      "17    12093\n",
      "34    12092\n",
      "13    12073\n",
      "46    12059\n",
      "21    12055\n",
      "12    12037\n",
      "48    12035\n",
      "1     12019\n",
      "49    12017\n",
      "43    12014\n",
      "27    12009\n",
      "19    11999\n",
      "29    11997\n",
      "20    11992\n",
      "44    11991\n",
      "39    11986\n",
      "10    11981\n",
      "8     11979\n",
      "4     11976\n",
      "3     11960\n",
      "31    11939\n",
      "2     11939\n",
      "22    11938\n",
      "7     11938\n",
      "50    11922\n",
      "14    11918\n",
      "38    11904\n",
      "30    11900\n",
      "33    11895\n",
      "40    11884\n",
      "45    11878\n",
      "6     11876\n",
      "37    11867\n",
      "5     11862\n",
      "15    11842\n",
      "18    11836\n",
      "11    11728\n",
      "Name: l_quantity, dtype: int64\n",
      "l_extendedprice 49192.65    23\n",
      "46850.40    22\n",
      "41414.10    22\n",
      "42129.36    20\n",
      "38682.00    20\n",
      "49729.20    20\n",
      "38496.48    20\n",
      "26067.30    19\n",
      "48267.66    19\n",
      "45969.20    19\n",
      "12701.36    19\n",
      "16307.10    19\n",
      "23281.44    19\n",
      "58201.20    19\n",
      "32434.56    19\n",
      "62309.52    18\n",
      "44735.88    18\n",
      "1920.10     18\n",
      "66994.20    18\n",
      "21160.23    18\n",
      "61264.80    18\n",
      "31295.64    18\n",
      "54057.60    18\n",
      "44651.88    18\n",
      "47930.40    18\n",
      "27388.80    18\n",
      "46602.60    18\n",
      "25899.72    18\n",
      "12252.96    18\n",
      "53032.76    17\n",
      "            ..\n",
      "3781.08      1\n",
      "46452.98     1\n",
      "24080.50     1\n",
      "40667.50     1\n",
      "9139.55      1\n",
      "55896.28     1\n",
      "30033.00     1\n",
      "1320.42      1\n",
      "56227.50     1\n",
      "46403.98     1\n",
      "54874.81     1\n",
      "10868.66     1\n",
      "4260.64      1\n",
      "7327.72      1\n",
      "69121.08     1\n",
      "40643.50     1\n",
      "47825.03     1\n",
      "41772.16     1\n",
      "55542.96     1\n",
      "35558.72     1\n",
      "22767.78     1\n",
      "79748.19     1\n",
      "2875.02      1\n",
      "61986.72     1\n",
      "30303.84     1\n",
      "30850.30     1\n",
      "4871.16      1\n",
      "23104.20     1\n",
      "23103.30     1\n",
      "51368.79     1\n",
      "Name: l_extendedprice, Length: 130792, dtype: int64\n",
      "l_discount 0.05    55094\n",
      "0.09    54884\n",
      "0.08    54767\n",
      "0.02    54648\n",
      "0.07    54618\n",
      "0.10    54593\n",
      "0.03    54554\n",
      "0.01    54476\n",
      "0.06    54426\n",
      "0.04    54373\n",
      "0.00    54139\n",
      "Name: l_discount, dtype: int64\n",
      "l_tax 0.04    67225\n",
      "0.06    67173\n",
      "0.02    66877\n",
      "0.05    66748\n",
      "0.00    66698\n",
      "0.08    66687\n",
      "0.03    66596\n",
      "0.07    66584\n",
      "0.01    65984\n",
      "Name: l_tax, dtype: int64\n",
      "l_returnflag N    304481\n",
      "R    148301\n",
      "A    147790\n",
      "Name: l_returnflag, dtype: int64\n",
      "l_linestatus O    300716\n",
      "F    299856\n",
      "Name: l_linestatus, dtype: int64\n",
      "l_shipdate 1998-06-19    330\n",
      "1994-09-06    307\n",
      "1992-07-14    302\n",
      "1992-06-04    300\n",
      "1995-06-27    299\n",
      "1995-04-04    299\n",
      "1992-10-25    297\n",
      "1994-09-19    297\n",
      "1998-03-22    295\n",
      "1998-06-20    295\n",
      "1994-08-23    294\n",
      "1994-07-11    293\n",
      "1995-06-30    292\n",
      "1994-03-13    291\n",
      "1996-11-12    291\n",
      "1997-01-19    291\n",
      "1996-09-03    290\n",
      "1994-05-19    289\n",
      "1994-07-10    289\n",
      "1994-11-05    288\n",
      "1993-12-15    288\n",
      "1993-10-28    288\n",
      "1994-10-06    287\n",
      "1997-08-13    286\n",
      "1998-06-06    286\n",
      "1997-07-19    286\n",
      "1995-07-13    286\n",
      "1996-01-05    286\n",
      "1994-03-29    285\n",
      "1994-09-16    285\n",
      "             ... \n",
      "1992-01-15     34\n",
      "1992-01-18     33\n",
      "1992-01-14     32\n",
      "1992-01-21     32\n",
      "1998-11-17     31\n",
      "1998-11-18     31\n",
      "1998-11-20     30\n",
      "1998-11-23     27\n",
      "1998-11-19     25\n",
      "1992-01-12     23\n",
      "1992-01-20     23\n",
      "1998-11-21     23\n",
      "1992-01-09     18\n",
      "1992-01-11     18\n",
      "1992-01-10     17\n",
      "1998-11-22     16\n",
      "1998-11-25     15\n",
      "1992-01-06     13\n",
      "1992-01-07     11\n",
      "1998-11-26     10\n",
      "1998-11-24      9\n",
      "1992-01-08      9\n",
      "1998-11-27      9\n",
      "1998-11-28      6\n",
      "1992-01-03      5\n",
      "1998-11-29      5\n",
      "1992-01-04      5\n",
      "1992-01-05      4\n",
      "1998-11-30      4\n",
      "1998-12-01      3\n",
      "Name: l_shipdate, Length: 2525, dtype: int64\n",
      "l_commitdate 1995-03-16    313\n",
      "1997-10-18    309\n",
      "1994-09-02    306\n",
      "1998-03-16    304\n",
      "1996-03-18    298\n",
      "1995-09-12    297\n",
      "1995-11-19    297\n",
      "1996-09-24    297\n",
      "1995-12-08    297\n",
      "1996-04-22    296\n",
      "1996-03-13    295\n",
      "1998-06-23    295\n",
      "1994-01-08    295\n",
      "1998-05-14    294\n",
      "1992-05-18    294\n",
      "1995-07-21    294\n",
      "1995-08-10    293\n",
      "1998-08-21    291\n",
      "1992-06-09    291\n",
      "1995-05-03    291\n",
      "1997-08-03    290\n",
      "1994-11-20    289\n",
      "1995-12-15    288\n",
      "1997-08-12    288\n",
      "1998-05-08    288\n",
      "1994-07-26    288\n",
      "1994-03-27    287\n",
      "1998-06-11    287\n",
      "1993-12-18    287\n",
      "1994-04-19    287\n",
      "             ... \n",
      "1998-10-17     61\n",
      "1992-02-10     60\n",
      "1998-10-20     60\n",
      "1998-10-16     59\n",
      "1992-02-13     59\n",
      "1992-02-14     57\n",
      "1998-10-19     54\n",
      "1992-02-12     53\n",
      "1998-10-22     47\n",
      "1998-10-18     47\n",
      "1992-02-09     43\n",
      "1998-10-21     42\n",
      "1992-02-05     34\n",
      "1992-02-06     32\n",
      "1998-10-25     32\n",
      "1998-10-23     30\n",
      "1992-02-07     30\n",
      "1998-10-24     29\n",
      "1992-02-08     27\n",
      "1998-10-26     23\n",
      "1998-10-27     21\n",
      "1998-10-28     18\n",
      "1992-02-03     16\n",
      "1992-02-04     14\n",
      "1992-02-02     12\n",
      "1998-10-30     12\n",
      "1998-10-29     11\n",
      "1992-02-01      8\n",
      "1998-10-31      6\n",
      "1992-01-31      6\n",
      "Name: l_commitdate, Length: 2466, dtype: int64\n",
      "l_receiptdate 1994-01-27    311\n",
      "1997-07-31    305\n",
      "1997-09-24    300\n",
      "1995-07-24    299\n",
      "1992-08-12    299\n",
      "1994-10-07    298\n",
      "1996-03-18    297\n",
      "1998-04-30    297\n",
      "1992-06-01    296\n",
      "1996-12-05    295\n",
      "1996-01-11    293\n",
      "1997-10-14    292\n",
      "1998-07-19    292\n",
      "1994-12-12    292\n",
      "1998-01-29    291\n",
      "1995-07-01    291\n",
      "1998-05-14    291\n",
      "1998-03-28    290\n",
      "1994-10-05    289\n",
      "1998-05-17    289\n",
      "1997-01-01    289\n",
      "1993-04-28    288\n",
      "1997-06-05    288\n",
      "1992-08-23    287\n",
      "1995-06-15    287\n",
      "1998-08-10    287\n",
      "1994-10-21    287\n",
      "1998-06-03    286\n",
      "1994-06-28    286\n",
      "1994-07-27    286\n",
      "             ... \n",
      "1998-12-10     13\n",
      "1998-12-17     13\n",
      "1992-01-21     12\n",
      "1998-12-15     12\n",
      "1992-01-23     12\n",
      "1998-12-12     11\n",
      "1998-12-16      9\n",
      "1992-01-16      9\n",
      "1998-12-13      8\n",
      "1992-01-18      6\n",
      "1992-01-19      6\n",
      "1998-12-24      5\n",
      "1998-12-20      5\n",
      "1992-01-12      5\n",
      "1998-12-21      5\n",
      "1992-01-17      4\n",
      "1992-01-14      4\n",
      "1992-01-05      4\n",
      "1992-01-08      3\n",
      "1992-01-13      3\n",
      "1992-01-10      3\n",
      "1992-01-15      3\n",
      "1992-01-11      3\n",
      "1992-01-09      3\n",
      "1998-12-23      3\n",
      "1998-12-19      3\n",
      "1998-12-22      2\n",
      "1992-01-04      1\n",
      "1998-12-27      1\n",
      "1998-12-25      1\n",
      "Name: l_receiptdate, Length: 2547, dtype: int64\n",
      "l_shipinstruct TAKE BACK RETURN     150696\n",
      "NONE                 150271\n",
      "COLLECT COD          150164\n",
      "DELIVER IN PERSON    149441\n",
      "Name: l_shipinstruct, dtype: int64\n",
      "l_shipmode SHIP       85988\n",
      "MAIL       85954\n",
      "TRUCK      85953\n",
      "FOB        85862\n",
      "RAIL       85713\n",
      "AIR        85689\n",
      "REG AIR    85413\n",
      "Name: l_shipmode, dtype: int64\n"
     ]
    },
    {
     "name": "stdout",
     "output_type": "stream",
     "text": [
      "l_comment  carefully                                     98\n",
      " furiously                                     92\n",
      " carefully                                     92\n",
      "carefully                                      91\n",
      " furiously                                     86\n",
      "furiously                                      70\n",
      "ly regular                                     62\n",
      " blithely                                      61\n",
      "y regular                                      58\n",
      " accounts                                      48\n",
      " deposits                                      47\n",
      "e furiousl                                     47\n",
      "e carefully                                    46\n",
      "ly regular                                     46\n",
      " requests                                      44\n",
      "ly ironic                                      44\n",
      " packages                                      44\n",
      "pinto bean                                     40\n",
      "e carefull                                     39\n",
      " theodolite                                    38\n",
      "e furiously                                    38\n",
      "e carefully                                    36\n",
      "heodolites                                     36\n",
      ". carefully                                    36\n",
      " pinto bea                                     35\n",
      " theodolites                                   34\n",
      "pinto beans                                    34\n",
      " pinto beans                                   33\n",
      "e furiously                                    33\n",
      "instructio                                     33\n",
      "                                               ..\n",
      "ounts haggle after t                            1\n",
      "eposits haggle. fluffily bold ideas haggle      1\n",
      "ts. slyly special p                             1\n",
      "equests are after th                            1\n",
      "nal requests. fluffily u                        1\n",
      " quickly regular waters b                       1\n",
      "y brave ideas. carefully bold instructions      1\n",
      "atelets. ironic tit                             1\n",
      "s cajole bravely. s                             1\n",
      "accounts. final,                                1\n",
      " slyly special depo                             1\n",
      "es nag bravely am                               1\n",
      "usly unusual packages-- unusual requests a      1\n",
      " accounts maintain ironic deposits.             1\n",
      "ges? slyly bold pinto b                         1\n",
      "l asymptotes cajole carefully ir                1\n",
      "onically slyly silent requests. carefu          1\n",
      "ickly regular requests unwind fl                1\n",
      "g according to the ironic p                     1\n",
      "bove the slyly ironic accounts. sly             1\n",
      "c foxes doubt. fluff                            1\n",
      "furiously even foxes. expr                      1\n",
      "furiously even instru                           1\n",
      "egular, express pinto beans haggle furi         1\n",
      "le. blithely regular packages hang request      1\n",
      "lyly even packages wake fi                      1\n",
      "ajole quickly about t                           1\n",
      "against the furiously                           1\n",
      "ng requests detect slyly according to the u     1\n",
      "equests sleep slyly unusual warthogs            1\n",
      "Name: l_comment, Length: 538684, dtype: int64\n"
     ]
    }
   ],
   "source": [
    "for col in lineitem.columns:\n",
    "    print(col, lineitem[col].value_counts())"
   ]
  },
  {
   "cell_type": "code",
   "execution_count": 23,
   "metadata": {},
   "outputs": [
    {
     "data": {
      "text/plain": [
       "N    304481\n",
       "R    148301\n",
       "A    147790\n",
       "Name: l_returnflag, dtype: int64"
      ]
     },
     "execution_count": 23,
     "metadata": {},
     "output_type": "execute_result"
    }
   ],
   "source": [
    "lineitem['l_returnflag'].apply(lambda x: str(x)).value_counts()"
   ]
  },
  {
   "cell_type": "code",
   "execution_count": 24,
   "metadata": {},
   "outputs": [
    {
     "data": {
      "text/plain": [
       "O    300716\n",
       "F    299856\n",
       "Name: l_linestatus, dtype: int64"
      ]
     },
     "execution_count": 24,
     "metadata": {},
     "output_type": "execute_result"
    }
   ],
   "source": [
    "lineitem['l_linestatus'].apply(lambda x: str(x)).value_counts()"
   ]
  },
  {
   "cell_type": "code",
   "execution_count": 104,
   "metadata": {},
   "outputs": [
    {
     "data": {
      "text/plain": [
       "<matplotlib.axes._subplots.AxesSubplot at 0x115a81e80>"
      ]
     },
     "execution_count": 104,
     "metadata": {},
     "output_type": "execute_result"
    },
    {
     "data": {
      "image/png": "[encoded data removed]",
      "text/plain": [
       "<Figure size 432x288 with 1 Axes>"
      ]
     },
     "metadata": {},
     "output_type": "display_data"
    }
   ],
   "source": [
    "pd.to_datetime(lineitem['l_shipdate']).plot()"
   ]
  },
  {
   "cell_type": "code",
   "execution_count": null,
   "metadata": {},
   "outputs": [],
   "source": [
    "lineitem['l_shipdate'].value_counts().to_frame(name='count').head()"
   ]
  },
  {
   "cell_type": "code",
   "execution_count": null,
   "metadata": {},
   "outputs": [],
   "source": [
    "col = 'l_orderkey'\n",
    "lineitem[[col]].plot.hist(bins=len(lineitem[col].value_counts()))"
   ]
  },
  {
   "cell_type": "code",
   "execution_count": 6,
   "metadata": {
    "scrolled": false
   },
   "outputs": [
    {
     "name": "stdout",
     "output_type": "stream",
     "text": [
      "Cannot plot column l_orderkey\n",
      "Cannot plot column l_extendedprice\n",
      "Cannot plot column l_discount\n",
      "Cannot plot column l_tax\n",
      "Cannot plot column l_returnflag\n",
      "Cannot plot column l_linestatus\n",
      "Cannot plot column l_shipdate\n",
      "Cannot plot column l_commitdate\n",
      "Cannot plot column l_receiptdate\n",
      "Cannot plot column l_shipinstruct\n",
      "Cannot plot column l_shipmode\n",
      "Cannot plot column l_comment\n"
     ]
    }
   ],
   "source": [
    "for col in lineitem.columns:\n",
    "    try:\n",
    "        lineitem[[col]].plot.hist(bins=lineitem[col].max())\n",
    "    except:\n",
    "        print(\"Cannot plot column {}\".format(col))"
   ]
  },
  {
   "cell_type": "code",
   "execution_count": 55,
   "metadata": {},
   "outputs": [
    {
     "data": {
      "text/plain": [
       "N    304481\n",
       "R    148301\n",
       "A    147790\n",
       "Name: l_returnflag, dtype: int64"
      ]
     },
     "execution_count": 55,
     "metadata": {},
     "output_type": "execute_result"
    }
   ],
   "source": [
    "lineitem['l_returnflag'].apply(lambda x: str(x)).value_counts()"
   ]
  },
  {
   "cell_type": "code",
   "execution_count": 57,
   "metadata": {},
   "outputs": [
    {
     "data": {
      "text/html": [
       "<div>\n",
       "<style scoped>\n",
       "    .dataframe tbody tr th:only-of-type {\n",
       "        vertical-align: middle;\n",
       "    }\n",
       "\n",
       "    .dataframe tbody tr th {\n",
       "        vertical-align: top;\n",
       "    }\n",
       "\n",
       "    .dataframe thead th {\n",
       "        text-align: right;\n",
       "    }\n",
       "</style>\n",
       "<table border=\"1\" class=\"dataframe\">\n",
       "  <thead>\n",
       "    <tr style=\"text-align: right;\">\n",
       "      <th></th>\n",
       "      <th>l_orderkey</th>\n",
       "      <th>l_partkey</th>\n",
       "      <th>l_suppkey</th>\n",
       "      <th>l_linenumber</th>\n",
       "      <th>l_quantity</th>\n",
       "      <th>l_extendedprice</th>\n",
       "      <th>l_discount</th>\n",
       "      <th>l_tax</th>\n",
       "    </tr>\n",
       "  </thead>\n",
       "  <tbody>\n",
       "    <tr>\n",
       "      <th>count</th>\n",
       "      <td>600572.000000</td>\n",
       "      <td>600572.000000</td>\n",
       "      <td>600572.000000</td>\n",
       "      <td>600572.000000</td>\n",
       "      <td>600572.000000</td>\n",
       "      <td>600572.000000</td>\n",
       "      <td>600572.000000</td>\n",
       "      <td>600572.000000</td>\n",
       "    </tr>\n",
       "    <tr>\n",
       "      <th>mean</th>\n",
       "      <td>300087.320326</td>\n",
       "      <td>10003.995747</td>\n",
       "      <td>500.555334</td>\n",
       "      <td>3.001216</td>\n",
       "      <td>25.533661</td>\n",
       "      <td>35992.236202</td>\n",
       "      <td>0.050074</td>\n",
       "      <td>0.040042</td>\n",
       "    </tr>\n",
       "    <tr>\n",
       "      <th>std</th>\n",
       "      <td>173380.159545</td>\n",
       "      <td>5768.962517</td>\n",
       "      <td>288.555763</td>\n",
       "      <td>1.732117</td>\n",
       "      <td>14.420189</td>\n",
       "      <td>22014.181750</td>\n",
       "      <td>0.031603</td>\n",
       "      <td>0.025797</td>\n",
       "    </tr>\n",
       "    <tr>\n",
       "      <th>min</th>\n",
       "      <td>1.000000</td>\n",
       "      <td>1.000000</td>\n",
       "      <td>1.000000</td>\n",
       "      <td>1.000000</td>\n",
       "      <td>1.000000</td>\n",
       "      <td>901.000000</td>\n",
       "      <td>0.000000</td>\n",
       "      <td>0.000000</td>\n",
       "    </tr>\n",
       "    <tr>\n",
       "      <th>25%</th>\n",
       "      <td>149734.000000</td>\n",
       "      <td>5012.000000</td>\n",
       "      <td>250.000000</td>\n",
       "      <td>2.000000</td>\n",
       "      <td>13.000000</td>\n",
       "      <td>17594.380000</td>\n",
       "      <td>0.020000</td>\n",
       "      <td>0.020000</td>\n",
       "    </tr>\n",
       "    <tr>\n",
       "      <th>50%</th>\n",
       "      <td>300486.000000</td>\n",
       "      <td>10003.000000</td>\n",
       "      <td>501.000000</td>\n",
       "      <td>3.000000</td>\n",
       "      <td>26.000000</td>\n",
       "      <td>34461.750000</td>\n",
       "      <td>0.050000</td>\n",
       "      <td>0.040000</td>\n",
       "    </tr>\n",
       "    <tr>\n",
       "      <th>75%</th>\n",
       "      <td>450593.250000</td>\n",
       "      <td>14998.000000</td>\n",
       "      <td>750.000000</td>\n",
       "      <td>4.000000</td>\n",
       "      <td>38.000000</td>\n",
       "      <td>51684.300000</td>\n",
       "      <td>0.080000</td>\n",
       "      <td>0.060000</td>\n",
       "    </tr>\n",
       "    <tr>\n",
       "      <th>max</th>\n",
       "      <td>600000.000000</td>\n",
       "      <td>20000.000000</td>\n",
       "      <td>1000.000000</td>\n",
       "      <td>7.000000</td>\n",
       "      <td>50.000000</td>\n",
       "      <td>95949.500000</td>\n",
       "      <td>0.100000</td>\n",
       "      <td>0.080000</td>\n",
       "    </tr>\n",
       "  </tbody>\n",
       "</table>\n",
       "</div>"
      ],
      "text/plain": [
       "          l_orderkey      l_partkey      l_suppkey   l_linenumber  \\\n",
       "count  600572.000000  600572.000000  600572.000000  600572.000000   \n",
       "mean   300087.320326   10003.995747     500.555334       3.001216   \n",
       "std    173380.159545    5768.962517     288.555763       1.732117   \n",
       "min         1.000000       1.000000       1.000000       1.000000   \n",
       "25%    149734.000000    5012.000000     250.000000       2.000000   \n",
       "50%    300486.000000   10003.000000     501.000000       3.000000   \n",
       "75%    450593.250000   14998.000000     750.000000       4.000000   \n",
       "max    600000.000000   20000.000000    1000.000000       7.000000   \n",
       "\n",
       "          l_quantity  l_extendedprice     l_discount          l_tax  \n",
       "count  600572.000000    600572.000000  600572.000000  600572.000000  \n",
       "mean       25.533661     35992.236202       0.050074       0.040042  \n",
       "std        14.420189     22014.181750       0.031603       0.025797  \n",
       "min         1.000000       901.000000       0.000000       0.000000  \n",
       "25%        13.000000     17594.380000       0.020000       0.020000  \n",
       "50%        26.000000     34461.750000       0.050000       0.040000  \n",
       "75%        38.000000     51684.300000       0.080000       0.060000  \n",
       "max        50.000000     95949.500000       0.100000       0.080000  "
      ]
     },
     "execution_count": 57,
     "metadata": {},
     "output_type": "execute_result"
    }
   ],
   "source": [
    "lineitem.describe()"
   ]
  },
  {
   "cell_type": "code",
   "execution_count": 23,
   "metadata": {},
   "outputs": [],
   "source": [
    "sizes = lineitem.groupby(['l_shipdate', 'l_returnflag', 'l_linestatus']).size().values"
   ]
  },
  {
   "cell_type": "code",
   "execution_count": 17,
   "metadata": {},
   "outputs": [],
   "source": [
    "grs = lineitem.groupby(['l_shipdate', 'l_returnflag', 'l_linestatus'])"
   ]
  },
  {
   "cell_type": "code",
   "execution_count": 18,
   "metadata": {},
   "outputs": [],
   "source": [
    "gr_keys = list(grs.groups.keys())"
   ]
  },
  {
   "cell_type": "code",
   "execution_count": 38,
   "metadata": {},
   "outputs": [],
   "source": [
    "stds = []\n",
    "for key in gr_keys:\n",
    "    stds.append(np.float64(grs.get_group(key)['l_extendedprice'].std()))"
   ]
  },
  {
   "cell_type": "code",
   "execution_count": 39,
   "metadata": {},
   "outputs": [
    {
     "data": {
      "text/plain": [
       "numpy.float64"
      ]
     },
     "execution_count": 39,
     "metadata": {},
     "output_type": "execute_result"
    }
   ],
   "source": [
    "type(stds[0])"
   ]
  },
  {
   "cell_type": "code",
   "execution_count": 40,
   "metadata": {},
   "outputs": [],
   "source": [
    "import numpy as np"
   ]
  },
  {
   "cell_type": "code",
   "execution_count": 41,
   "metadata": {},
   "outputs": [],
   "source": [
    "s = 0\n",
    "for size, stdd in zip(sizes, stds):\n",
    "    s+= 1.0/np.float64(2.0) * size**2 * stdd**2"
   ]
  },
  {
   "cell_type": "code",
   "execution_count": 42,
   "metadata": {},
   "outputs": [
    {
     "data": {
      "text/plain": [
       "321599004.02440906"
      ]
     },
     "execution_count": 42,
     "metadata": {},
     "output_type": "execute_result"
    }
   ],
   "source": [
    "s**(0.5) * 1.96"
   ]
  },
  {
   "cell_type": "code",
   "execution_count": 92,
   "metadata": {},
   "outputs": [],
   "source": [
    "s = 0\n",
    "std = 22014.181750\n",
    "for size, stdd in zip(sizes, stds):\n",
    "    s += size * stdd**2"
   ]
  },
  {
   "cell_type": "code",
   "execution_count": 95,
   "metadata": {},
   "outputs": [
    {
     "data": {
      "text/plain": [
       "33442887.345974628"
      ]
     },
     "execution_count": 95,
     "metadata": {},
     "output_type": "execute_result"
    }
   ],
   "source": [
    "s**(0.5) * 1.96"
   ]
  },
  {
   "cell_type": "code",
   "execution_count": 9,
   "metadata": {},
   "outputs": [
    {
     "data": {
      "text/plain": [
       "2161592928.024001"
      ]
     },
     "execution_count": 9,
     "metadata": {},
     "output_type": "execute_result"
    }
   ],
   "source": [
    "lineitem['l_extendedprice'].sum() * 0.1"
   ]
  },
  {
   "cell_type": "code",
   "execution_count": 15,
   "metadata": {},
   "outputs": [
    {
     "data": {
      "text/plain": [
       "3599.2236201889496"
      ]
     },
     "execution_count": 15,
     "metadata": {},
     "output_type": "execute_result"
    }
   ],
   "source": [
    "lineitem['l_extendedprice'].mean() * 0.1"
   ]
  },
  {
   "cell_type": "code",
   "execution_count": null,
   "metadata": {},
   "outputs": [],
   "source": []
  },
  {
   "cell_type": "code",
   "execution_count": 14,
   "metadata": {},
   "outputs": [
    {
     "ename": "AttributeError",
     "evalue": "Cannot access callable attribute 'reset_index' of 'SeriesGroupBy' objects, try using the 'apply' method",
     "output_type": "error",
     "traceback": [
      "\u001b[0;31m---------------------------------------------------------------------------\u001b[0m",
      "\u001b[0;31mAttributeError\u001b[0m                            Traceback (most recent call last)",
      "\u001b[0;32m<ipython-input-14-651502e52923>\u001b[0m in \u001b[0;36m<module>\u001b[0;34m()\u001b[0m\n\u001b[0;32m----> 1\u001b[0;31m \u001b[0mlineitem\u001b[0m\u001b[0;34m.\u001b[0m\u001b[0mgroupby\u001b[0m\u001b[0;34m(\u001b[0m\u001b[0;34m[\u001b[0m\u001b[0;34m'l_shipdate'\u001b[0m\u001b[0;34m,\u001b[0m \u001b[0;34m'l_returnflag'\u001b[0m\u001b[0;34m,\u001b[0m \u001b[0;34m'l_linestatus'\u001b[0m\u001b[0;34m]\u001b[0m\u001b[0;34m)\u001b[0m\u001b[0;34m[\u001b[0m\u001b[0;34m'l_extendedprice'\u001b[0m\u001b[0;34m]\u001b[0m\u001b[0;34m.\u001b[0m\u001b[0mreset_index\u001b[0m\u001b[0;34m(\u001b[0m\u001b[0;34m)\u001b[0m\u001b[0;34m\u001b[0m\u001b[0m\n\u001b[0m",
      "\u001b[0;32m/anaconda3/lib/python3.6/site-packages/pandas/core/groupby/groupby.py\u001b[0m in \u001b[0;36m__getattr__\u001b[0;34m(self, attr)\u001b[0m\n\u001b[1;32m    760\u001b[0m             \u001b[0;32mreturn\u001b[0m \u001b[0mself\u001b[0m\u001b[0;34m[\u001b[0m\u001b[0mattr\u001b[0m\u001b[0;34m]\u001b[0m\u001b[0;34m\u001b[0m\u001b[0m\n\u001b[1;32m    761\u001b[0m         \u001b[0;32mif\u001b[0m \u001b[0mhasattr\u001b[0m\u001b[0;34m(\u001b[0m\u001b[0mself\u001b[0m\u001b[0;34m.\u001b[0m\u001b[0mobj\u001b[0m\u001b[0;34m,\u001b[0m \u001b[0mattr\u001b[0m\u001b[0;34m)\u001b[0m\u001b[0;34m:\u001b[0m\u001b[0;34m\u001b[0m\u001b[0m\n\u001b[0;32m--> 762\u001b[0;31m             \u001b[0;32mreturn\u001b[0m \u001b[0mself\u001b[0m\u001b[0;34m.\u001b[0m\u001b[0m_make_wrapper\u001b[0m\u001b[0;34m(\u001b[0m\u001b[0mattr\u001b[0m\u001b[0;34m)\u001b[0m\u001b[0;34m\u001b[0m\u001b[0m\n\u001b[0m\u001b[1;32m    763\u001b[0m \u001b[0;34m\u001b[0m\u001b[0m\n\u001b[1;32m    764\u001b[0m         raise AttributeError(\"%r object has no attribute %r\" %\n",
      "\u001b[0;32m/anaconda3/lib/python3.6/site-packages/pandas/core/groupby/groupby.py\u001b[0m in \u001b[0;36m_make_wrapper\u001b[0;34m(self, name)\u001b[0m\n\u001b[1;32m    797\u001b[0m                    \"using the 'apply' method\".format(kind, name,\n\u001b[1;32m    798\u001b[0m                                                      type(self).__name__))\n\u001b[0;32m--> 799\u001b[0;31m             \u001b[0;32mraise\u001b[0m \u001b[0mAttributeError\u001b[0m\u001b[0;34m(\u001b[0m\u001b[0mmsg\u001b[0m\u001b[0;34m)\u001b[0m\u001b[0;34m\u001b[0m\u001b[0m\n\u001b[0m\u001b[1;32m    800\u001b[0m \u001b[0;34m\u001b[0m\u001b[0m\n\u001b[1;32m    801\u001b[0m         \u001b[0mself\u001b[0m\u001b[0;34m.\u001b[0m\u001b[0m_set_group_selection\u001b[0m\u001b[0;34m(\u001b[0m\u001b[0;34m)\u001b[0m\u001b[0;34m\u001b[0m\u001b[0m\n",
      "\u001b[0;31mAttributeError\u001b[0m: Cannot access callable attribute 'reset_index' of 'SeriesGroupBy' objects, try using the 'apply' method"
     ]
    }
   ],
   "source": [
    "lineitem.groupby(['l_shipdate', 'l_returnflag', 'l_linestatus']).apply(lambda x: x.sample(frac=0.3))\n"
   ]
  },
  {
   "cell_type": "code",
   "execution_count": null,
   "metadata": {},
   "outputs": [],
   "source": []
  }
 ],
 "metadata": {
  "kernelspec": {
   "display_name": "Python 3",
   "language": "python",
   "name": "python3"
  },
  "language_info": {
   "codemirror_mode": {
    "name": "ipython",
    "version": 3
   },
   "file_extension": ".py",
   "mimetype": "text/x-python",
   "name": "python",
   "nbconvert_exporter": "python",
   "pygments_lexer": "ipython3",
   "version": "3.6.5"
  }
 },
 "nbformat": 4,
 "nbformat_minor": 2
}
